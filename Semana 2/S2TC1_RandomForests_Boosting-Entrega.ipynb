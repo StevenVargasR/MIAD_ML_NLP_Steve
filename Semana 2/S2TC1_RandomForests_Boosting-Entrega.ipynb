{
 "cells": [
  {
   "cell_type": "markdown",
   "metadata": {},
   "source": [
    "![image info](https://raw.githubusercontent.com/albahnsen/MIAD_ML_and_NLP/main/images/banner_1.png)"
   ]
  },
  {
   "cell_type": "markdown",
   "metadata": {},
   "source": [
    "# Taller: Construcción e implementación de modelos Bagging, Random Forest y XGBoost\n",
    "\n",
    "En este taller podrán poner en práctica sus conocimientos sobre la construcción e implementación de modelos de Bagging, Random Forest y XGBoost. El taller está constituido por 8 puntos, en los cuales deberan seguir las intrucciones de cada numeral para su desarrollo."
   ]
  },
  {
   "cell_type": "markdown",
   "metadata": {},
   "source": [
    "## Datos predicción precio de automóviles\n",
    "\n",
    "En este taller se usará el conjunto de datos de Car Listings de Kaggle donde cada observación representa el precio de un automóvil teniendo en cuenta distintas variables como año, marca, modelo, entre otras. El objetivo es predecir el precio del automóvil. Para más detalles puede visitar el siguiente enlace: [datos](https://www.kaggle.com/jpayne/852k-used-car-listings)."
   ]
  },
  {
   "cell_type": "code",
   "execution_count": 2,
   "metadata": {},
   "outputs": [],
   "source": [
    "import warnings\n",
    "warnings.filterwarnings('ignore')"
   ]
  },
  {
   "cell_type": "code",
   "execution_count": 3,
   "metadata": {},
   "outputs": [
    {
     "data": {
      "text/html": [
       "<div>\n",
       "<style scoped>\n",
       "    .dataframe tbody tr th:only-of-type {\n",
       "        vertical-align: middle;\n",
       "    }\n",
       "\n",
       "    .dataframe tbody tr th {\n",
       "        vertical-align: top;\n",
       "    }\n",
       "\n",
       "    .dataframe thead th {\n",
       "        text-align: right;\n",
       "    }\n",
       "</style>\n",
       "<table border=\"1\" class=\"dataframe\">\n",
       "  <thead>\n",
       "    <tr style=\"text-align: right;\">\n",
       "      <th></th>\n",
       "      <th>Price</th>\n",
       "      <th>Year</th>\n",
       "      <th>Mileage</th>\n",
       "      <th>M_Camry</th>\n",
       "      <th>M_Camry4dr</th>\n",
       "      <th>M_CamryBase</th>\n",
       "      <th>M_CamryL</th>\n",
       "      <th>M_CamryLE</th>\n",
       "      <th>M_CamrySE</th>\n",
       "      <th>M_CamryXLE</th>\n",
       "    </tr>\n",
       "  </thead>\n",
       "  <tbody>\n",
       "    <tr>\n",
       "      <th>7</th>\n",
       "      <td>21995</td>\n",
       "      <td>2014</td>\n",
       "      <td>6480</td>\n",
       "      <td>False</td>\n",
       "      <td>False</td>\n",
       "      <td>False</td>\n",
       "      <td>True</td>\n",
       "      <td>False</td>\n",
       "      <td>False</td>\n",
       "      <td>False</td>\n",
       "    </tr>\n",
       "    <tr>\n",
       "      <th>11</th>\n",
       "      <td>13995</td>\n",
       "      <td>2014</td>\n",
       "      <td>39972</td>\n",
       "      <td>False</td>\n",
       "      <td>False</td>\n",
       "      <td>False</td>\n",
       "      <td>False</td>\n",
       "      <td>True</td>\n",
       "      <td>False</td>\n",
       "      <td>False</td>\n",
       "    </tr>\n",
       "    <tr>\n",
       "      <th>167</th>\n",
       "      <td>17941</td>\n",
       "      <td>2016</td>\n",
       "      <td>18989</td>\n",
       "      <td>False</td>\n",
       "      <td>False</td>\n",
       "      <td>False</td>\n",
       "      <td>False</td>\n",
       "      <td>False</td>\n",
       "      <td>True</td>\n",
       "      <td>False</td>\n",
       "    </tr>\n",
       "    <tr>\n",
       "      <th>225</th>\n",
       "      <td>12493</td>\n",
       "      <td>2014</td>\n",
       "      <td>51330</td>\n",
       "      <td>False</td>\n",
       "      <td>False</td>\n",
       "      <td>False</td>\n",
       "      <td>True</td>\n",
       "      <td>False</td>\n",
       "      <td>False</td>\n",
       "      <td>False</td>\n",
       "    </tr>\n",
       "    <tr>\n",
       "      <th>270</th>\n",
       "      <td>7994</td>\n",
       "      <td>2007</td>\n",
       "      <td>116065</td>\n",
       "      <td>False</td>\n",
       "      <td>True</td>\n",
       "      <td>False</td>\n",
       "      <td>False</td>\n",
       "      <td>False</td>\n",
       "      <td>False</td>\n",
       "      <td>False</td>\n",
       "    </tr>\n",
       "  </tbody>\n",
       "</table>\n",
       "</div>"
      ],
      "text/plain": [
       "     Price  Year  Mileage  M_Camry  M_Camry4dr  M_CamryBase  M_CamryL  \\\n",
       "7    21995  2014     6480    False       False        False      True   \n",
       "11   13995  2014    39972    False       False        False     False   \n",
       "167  17941  2016    18989    False       False        False     False   \n",
       "225  12493  2014    51330    False       False        False      True   \n",
       "270   7994  2007   116065    False        True        False     False   \n",
       "\n",
       "     M_CamryLE  M_CamrySE  M_CamryXLE  \n",
       "7        False      False       False  \n",
       "11        True      False       False  \n",
       "167      False       True       False  \n",
       "225      False      False       False  \n",
       "270      False      False       False  "
      ]
     },
     "execution_count": 3,
     "metadata": {},
     "output_type": "execute_result"
    }
   ],
   "source": [
    "# Importación de librerías\n",
    "%matplotlib inline\n",
    "import pandas as pd\n",
    "\n",
    "# Lectura de la información de archivo .csv\n",
    "data = pd.read_csv('https://raw.githubusercontent.com/albahnsen/MIAD_ML_and_NLP/main/datasets/dataTrain_carListings.zip')\n",
    "\n",
    "# Preprocesamiento de datos para el taller\n",
    "data = data.loc[data['Model'].str.contains('Camry')].drop(['Make', 'State'], axis=1)\n",
    "data = data.join(pd.get_dummies(data['Model'], prefix='M'))\n",
    "data = data.drop(['Model'], axis=1)\n",
    "\n",
    "# Visualización dataset\n",
    "data.head()"
   ]
  },
  {
   "cell_type": "code",
   "execution_count": 4,
   "metadata": {},
   "outputs": [],
   "source": [
    "# Separación de variables predictoras (X) y variable de interés (y)\n",
    "y = data['Price']\n",
    "X = data.drop(['Price'], axis=1)"
   ]
  },
  {
   "cell_type": "code",
   "execution_count": 5,
   "metadata": {},
   "outputs": [],
   "source": [
    "# Separación de datos en set de entrenamiento y test\n",
    "from sklearn.model_selection import train_test_split\n",
    "X_train, X_test, y_train, y_test = train_test_split(X, y, test_size=0.33, random_state=42)"
   ]
  },
  {
   "cell_type": "markdown",
   "metadata": {},
   "source": [
    "### Punto 1 - Árbol de decisión manual\n",
    "\n",
    "En la celda 1 creen un árbol de decisión **manualmente**  que considere los set de entrenamiento y test definidos anteriormente y presenten el RMSE y MAE del modelo en el set de test."
   ]
  },
  {
   "cell_type": "code",
   "execution_count": 5,
   "metadata": {},
   "outputs": [
    {
     "name": "stdout",
     "output_type": "stream",
     "text": [
      " RMSE: 2118.1381268232594\n",
      " MAE: 1581.5196785989222\n"
     ]
    }
   ],
   "source": [
    "# Celda 1\n",
    "import numpy as np\n",
    "\n",
    "def mse(y):\n",
    "    if y.shape[0] == 0:\n",
    "        return 0\n",
    "    else:\n",
    "        return np.mean((y - y.mean())**2)\n",
    "\n",
    "# Definición de la función mse_reduction para calular la ganancia de una variable predictora j dado el punto de corte k\n",
    "def mse_reduction(X_col, y, split):\n",
    "    filter_l = X_col < split\n",
    "    y_l = y.loc[filter_l]\n",
    "    y_r = y.loc[~filter_l]\n",
    "    \n",
    "    n_l = y_l.shape[0]\n",
    "    n_r = y_r.shape[0]\n",
    "    \n",
    "    if n_l == 0 or n_r == 0:\n",
    "        return 0\n",
    "    \n",
    "    mse_y = mse(y)\n",
    "    mse_l = mse(y_l)\n",
    "    mse_r = mse(y_r)\n",
    "    \n",
    "    result = mse_y - (n_l / (n_l + n_r) * mse_l + n_r / (n_l + n_r) * mse_r)\n",
    "    \n",
    "    return result\n",
    "\n",
    "# Definición de la función best_split para calcular cuál es la mejor variable y punto de corte\n",
    "# para hacer la bifurcación del árbol\n",
    "def best_split(X, y, num_pct=10):\n",
    "    features = range(X.shape[1])\n",
    "    \n",
    "    best_split = [0, 0, 0]  # j, split, reduction\n",
    "    \n",
    "    # Para todas las variables \n",
    "    for j in features:\n",
    "        \n",
    "        splits = np.percentile(X.iloc[:, j], np.arange(0, 100, 100.0 / (num_pct+1)).tolist())\n",
    "        splits = np.unique(splits)[1:]\n",
    "        \n",
    "        # Para cada partición\n",
    "        for split in splits:\n",
    "            reduction = mse_reduction(X.iloc[:, j], y, split)\n",
    "                        \n",
    "            if reduction > best_split[2]:\n",
    "                best_split = [j, split, reduction]\n",
    "    \n",
    "    return best_split\n",
    "\n",
    "# Definición de la función tree_grow para hacer un crecimiento recursivo del árbol\n",
    "def tree_grow(X, y, level=0, min_gain=0.001, max_depth=None, num_pct=10):\n",
    "    \n",
    "    # Si solo es una observación\n",
    "    if X.shape[0] == 1:\n",
    "        tree = dict(y_pred=y.iloc[:1].values[0], level=level, split=-1, n_samples=1, gain=0)\n",
    "        return tree\n",
    "    \n",
    "    # Calcular la mejor división\n",
    "    j, split, gain = best_split(X, y, num_pct)\n",
    "    \n",
    "    # Guardar el árbol y estimar la predicción\n",
    "    y_pred = y.mean()\n",
    "    \n",
    "    tree = dict(y_pred=y_pred, level=level, split=-1, n_samples=X.shape[0], gain=gain)\n",
    "    \n",
    "    # Revisar el criterio de parada \n",
    "    if gain < min_gain:\n",
    "        return tree\n",
    "    if max_depth is not None:\n",
    "        if level >= max_depth:\n",
    "            return tree   \n",
    "    \n",
    "    # Continuar creando la partición\n",
    "    filter_l = X.iloc[:, j] < split\n",
    "    X_l, y_l = X.loc[filter_l], y.loc[filter_l]\n",
    "    X_r, y_r = X.loc[~filter_l], y.loc[~filter_l]\n",
    "    tree['split'] = [j, split]\n",
    "\n",
    "    # Siguiente iteración para cada partición\n",
    "    tree['sl'] = tree_grow(X_l, y_l, level + 1, min_gain=min_gain, max_depth=max_depth, num_pct=num_pct)\n",
    "    tree['sr'] = tree_grow(X_r, y_r, level + 1, min_gain=min_gain, max_depth=max_depth, num_pct=num_pct)\n",
    "    \n",
    "    return tree\n",
    "\n",
    "# Definición de la función tree_predict para hacer predicciones según las variables 'X' y el árbol 'tree'\n",
    "def tree_predict(X, tree):\n",
    "    \n",
    "    predicted = np.ones(X.shape[0]) * tree['y_pred']\n",
    "\n",
    "    # Revisar si es el nodo final\n",
    "    if tree['split'] == -1:\n",
    "        return predicted\n",
    "    else:\n",
    "        j, split = tree['split']\n",
    "        filter_l = (X.iloc[:, j] < split)\n",
    "        X_l = X.loc[filter_l]\n",
    "        X_r = X.loc[~filter_l]\n",
    "\n",
    "        if X_l.shape[0] == 0:  # Si el nodo izquierdo está vacío\n",
    "            predicted[~filter_l] = tree_predict(X_r, tree['sr'])\n",
    "        elif X_r.shape[0] == 0:  # Si el nodo derecho está vacío\n",
    "            predicted[filter_l] = tree_predict(X_l, tree['sl'])\n",
    "        else:\n",
    "            predicted[filter_l] = tree_predict(X_l, tree['sl'])\n",
    "            predicted[~filter_l] = tree_predict(X_r, tree['sr'])\n",
    "\n",
    "    return predicted\n",
    "\n",
    "tree = tree_grow(X_train, y_train)\n",
    "\n",
    "predictions = tree_predict(X_test, tree)\n",
    "\n",
    "rmse = np.sqrt(np.mean((y_test - predictions)**2))\n",
    "mae = np.mean(np.abs(y_test - predictions))\n",
    "\n",
    "print(f\" RMSE: {rmse}\")\n",
    "print(f\" MAE: {mae}\")"
   ]
  },
  {
   "cell_type": "code",
   "execution_count": 6,
   "metadata": {},
   "outputs": [
    {
     "name": "stdout",
     "output_type": "stream",
     "text": [
      " RMSE: 1921.0003286740282\n",
      " MAE: 1445.809132588749\n"
     ]
    }
   ],
   "source": [
    "tree = tree_grow(X_train, y_train, max_depth = 3)\n",
    "\n",
    "predictions = tree_predict(X_test, tree)\n",
    "\n",
    "rmse = np.sqrt(np.mean((y_test - predictions)**2))\n",
    "mae = np.mean(np.abs(y_test - predictions))\n",
    "\n",
    "print(f\" RMSE: {rmse}\")\n",
    "print(f\" MAE: {mae}\")"
   ]
  },
  {
   "cell_type": "markdown",
   "metadata": {},
   "source": [
    "Probando diferentes max_depth observamos una mejora en las métricas por lo que decidimos dejarlo en 3. Además esto también ayudame a mejorar los tiempos de ejecución."
   ]
  },
  {
   "cell_type": "markdown",
   "metadata": {},
   "source": [
    "### Punto 2 - Bagging manual\n",
    "\n",
    "En la celda 2 creen un modelo bagging **manualmente** con 10 árboles de regresión y comenten sobre el desempeño del modelo."
   ]
  },
  {
   "cell_type": "code",
   "execution_count": 7,
   "metadata": {},
   "outputs": [
    {
     "name": "stdout",
     "output_type": "stream",
     "text": [
      " RMSE bagging manual: 1832.6459868667998\n",
      " MAE bagging manual: 1376.3908840327795\n",
      " R cuadrado bagging manual: 0.7804289159004457\n"
     ]
    }
   ],
   "source": [
    "# Celda 2\n",
    "# Usaremos el árbol manual que diseñamos anteriormente\n",
    "from sklearn.metrics import r2_score, mean_absolute_error, mean_squared_error\n",
    "\n",
    "n_B = 10\n",
    "n_samples = X_train.shape[0]\n",
    "np.random.seed(123)\n",
    "samples = [np.random.choice(a=X_train.index, size=n_samples, replace=True) for _ in range(n_B)]\n",
    "\n",
    "predictions = []\n",
    "\n",
    "for i, sample_idx in enumerate(samples):\n",
    "    X_bootstrap = X_train.loc[sample_idx]\n",
    "    y_bootstrap = y_train.loc[sample_idx]\n",
    "    \n",
    "    tree = tree_grow(X_bootstrap, y_bootstrap, max_depth = 3)\n",
    "\n",
    "    y_pred_i = tree_predict(X_test, tree)\n",
    "    predictions.append(y_pred_i)\n",
    "\n",
    "# Promediamos los resultados de las predicciones\n",
    "y_pred_bag_manual = np.mean(predictions, axis=0)\n",
    "\n",
    "rmse_bag_manual = np.sqrt(mean_squared_error(y_test, y_pred_bag_manual))\n",
    "mae_bag_manual = mean_absolute_error(y_test, y_pred_bag_manual)\n",
    "r2_bag_manual = r2_score(y_test, y_pred_bag_manual)\n",
    "\n",
    "print(f\" RMSE bagging manual: {rmse_bag_manual}\")\n",
    "print(f\" MAE bagging manual: {mae_bag_manual}\")\n",
    "print(f\" R cuadrado bagging manual: {r2_bag_manual}\")"
   ]
  },
  {
   "cell_type": "markdown",
   "metadata": {},
   "source": [
    "###  Bagging manual (10 árboles)\n",
    "\n",
    "Implementamos manualmente un modelo de Bagging utilizando árboles de decisión, calculados manualmente también.\n",
    "\n",
    "El procedimiento consistió en:\n",
    "\n",
    "1. Generar 10 muestras bootstrap a partir del conjunto de entrenamiento.\n",
    "2. Entrenar un árbol de decisión manual por cada muestra, usando la función `tree_grow` desarrollada previamente.\n",
    "3. Predecir sobre el conjunto de prueba con cada uno de los árboles.\n",
    "4. Promediar las predicciones para obtener el valor final de predicción para cada observación del test.\n",
    "\n",
    "#### Configuración:\n",
    "- Número de árboles (`n_estimators`): 10.\n",
    "- Modelo: árbol de decisión manual con `max_depth` = 3\n",
    "- Muestras bootstrap: generadas de manera aleatoria manualmente.\n",
    "\n",
    "#### Resultados en el conjunto de prueba (`X_test`, `y_test`):\n",
    "- RMSE (Root Mean Squared Error): 1832.65  \n",
    "- MAE (Mean Absolute Error): 1376.39\n",
    "- R cuadrado: 0.78\n",
    "\n",
    "#### Comentario:\n",
    "El modelo de Bagging manual logró un mejor desempeño que un árbol individual, reduciendo el error de predicción. Esto nos demuestra el efecto positivo del bagging en la disminución de la varianza. Por otro lado, viendon el R cuadrado, vemos que el 78% de los casos son explicables utilizando este modelo.\n"
   ]
  },
  {
   "cell_type": "markdown",
   "metadata": {},
   "source": [
    "### Punto 3 - Bagging con librería\n",
    "\n",
    "En la celda 3, con la librería sklearn, entrenen un modelo bagging con 10 árboles de regresión y el parámetro `max_features` igual a `log(n_features)` y comenten sobre el desempeño del modelo."
   ]
  },
  {
   "cell_type": "code",
   "execution_count": 8,
   "metadata": {},
   "outputs": [
    {
     "name": "stdout",
     "output_type": "stream",
     "text": [
      " RMSE bagging sklearn: 2144.2687117758824\n",
      " MAE bagging sklearn: 1625.3628868685505\n",
      " R caudrado bagging sklearn: 0.6994087025531126\n"
     ]
    }
   ],
   "source": [
    "# Celda 3\n",
    "from sklearn.tree import DecisionTreeRegressor\n",
    "from sklearn.ensemble import BaggingRegressor\n",
    "\n",
    "n_features = X_train.shape[1]\n",
    "max_features = int(np.log(n_features))\n",
    "\n",
    "# Definimos el modelo base, un árbol de regresión, y utilizamos BagginRegressor de sklearn\n",
    "base_tree = DecisionTreeRegressor()\n",
    "bagging_model = BaggingRegressor(\n",
    "    base_estimator=base_tree,\n",
    "    n_estimators=10,\n",
    "    max_features=max_features,\n",
    "    random_state=123\n",
    ")\n",
    "\n",
    "bagging_model.fit(X_train, y_train)\n",
    "\n",
    "y_pred_bag = bagging_model.predict(X_test)\n",
    "\n",
    "# Evaluamos el modelo utilizando las funciones de sklearn.\n",
    "rmse_bag = np.sqrt(mean_squared_error(y_test, y_pred_bag))\n",
    "mae_bag = mean_absolute_error(y_test, y_pred_bag)\n",
    "r2_bag = r2_score(y_test, y_pred_bag)\n",
    "\n",
    "print(f\" RMSE bagging sklearn: {rmse_bag}\")\n",
    "print(f\" MAE bagging sklearn: {mae_bag}\")\n",
    "print(f\" R caudrado bagging sklearn: {r2_bag}\")\n"
   ]
  },
  {
   "cell_type": "markdown",
   "metadata": {},
   "source": [
    "###  Bagging sklearn (10 árboles)\n",
    "\n",
    "Implementamos un modelo de Bagging utilizando árboles de decisión a través de la librería de `sklearn`.\n",
    "\n",
    "El procedimiento consistió en:\n",
    "\n",
    "1. Generar un modelo base.\n",
    "2. Definir el modelo de Bagging con los parámetros necesarios.\n",
    "3. Entrenar el modelo.\n",
    "4. Predecir sobre el conjunto de prueba.\n",
    "5. Calcular las métricas del modelo.\n",
    "\n",
    "#### Configuración:\n",
    "- `n_estimators`: 10.\n",
    "- `Max_features`: Utilizamos la regla descrita en el enunciado.\n",
    "- `base_estimator`: Árbol de decisión por default de `sklearn`.\n",
    "\n",
    "#### Resultados en el conjunto de prueba (`X_test`, `y_test`):\n",
    "- RMSE (Root Mean Squared Error): 2144.27 \n",
    "- MAE (Mean Absolute Error): 1625.36\n",
    "- R cuadrado: 0.70\n",
    "\n",
    "#### Comentario:\n",
    "El modelo de Bagging de la librería obtuvo un desempeño peor en comparación al modelo manual. Aunque la forma de hacer el modelo de Bagging puede no ser muy diferente respecto a la manual, un detalle que puede afectar considerablemente el desempeño del modelo es la configuración de los hiperparámetros del modelo base. En este caso no se definió ningún hiperparámetro en concreto, es decir, se utilizaron los valores por defecto del árbol de regresión. Es posible que exista una diferencia entre estos parámetros y los definidos para el árbol manual que hagan que el desempeño global del modelo utiilzando la librería haya sido peor."
   ]
  },
  {
   "cell_type": "markdown",
   "metadata": {},
   "source": [
    "### Punto 4 - Random forest con librería\n",
    "\n",
    "En la celda 4, usando la librería sklearn entrenen un modelo de Randon Forest para regresión  y comenten sobre el desempeño del modelo."
   ]
  },
  {
   "cell_type": "code",
   "execution_count": 41,
   "metadata": {},
   "outputs": [
    {
     "name": "stdout",
     "output_type": "stream",
     "text": [
      " RMSE random forest: 1758.5945824447035\n",
      " MAE random forest: 1309.5576293026563\n",
      " R cuadrado random forest: 0.7978147601166199\n"
     ]
    }
   ],
   "source": [
    "# Celda 4\n",
    "from sklearn.ensemble import RandomForestRegressor\n",
    "\n",
    "rf_model = RandomForestRegressor()\n",
    "\n",
    "rf_model.fit(X_train, y_train)\n",
    "\n",
    "y_pred_rf = rf_model.predict(X_test)\n",
    "\n",
    "rmse_rf = np.sqrt(mean_squared_error(y_test, y_pred_rf))\n",
    "mae_rf = mean_absolute_error(y_test, y_pred_rf)\n",
    "r2_rf = r2_score(y_test, y_pred_rf)\n",
    "\n",
    "print(f\" RMSE random forest: {rmse_rf}\")\n",
    "print(f\" MAE random forest: {mae_rf}\")\n",
    "print(f\" R cuadrado random forest: {r2_rf}\")\n"
   ]
  },
  {
   "cell_type": "markdown",
   "metadata": {},
   "source": [
    "###  Random Forest sklearn\n",
    "\n",
    "Entrenamos un modelo de regresión utilizando `RandomForestRegressor` de la librería `sklearn`. La ventaja que tiene este modelo respecto a los anteriores es que aplica no solo el principio de bagging sino que tambiéntadores agrega aleatoriedad en la selección de variables durante la construcción del árbol. Esto reduce la correlacion entre ellas y mejora la capacidad de generalización.\n",
    "\n",
    "####  Configuración:\n",
    "\n",
    "- La configuración por defecto de `sklearn`.\n",
    "\n",
    "####  Resultados obtenidos en el conjunto de prueba:\n",
    "\n",
    "- **RMSE (Root Mean Squared Error):** 1757.48 \n",
    "- **MAE (Mean Absolute Error):** 1309.21\n",
    "- **R cuadrado (Mean Absolute Error):** 0.80\n",
    "\n",
    "####  Comentario:\n",
    "El modelo de Random Forest mostró un mejor desempeño que los modelos anteriores (árbol individual, bagging manual y bagging con librería). La reducción de error sugiere que la aleatoriedad en la selección de variables por árbol es efectiva para disminuir la varianza del modelo sin incrementar demasiado el sesgo. Este resultado valida la efectividad de Random Forest como un método robusto para regresión."
   ]
  },
  {
   "cell_type": "markdown",
   "metadata": {},
   "source": [
    "### Punto 5 - Calibración de parámetros Random forest\n",
    "\n",
    "En la celda 5, calibren los parámetros max_depth, max_features y n_estimators del modelo de Randon Forest para regresión, comenten sobre el desempeño del modelo y describan cómo cada parámetro afecta el desempeño del modelo."
   ]
  },
  {
   "cell_type": "code",
   "execution_count": 42,
   "metadata": {},
   "outputs": [
    {
     "name": "stdout",
     "output_type": "stream",
     "text": [
      "max_depth=2 -> RMSE promedio: 1996.3075882539783\n",
      "max_depth=4 -> RMSE promedio: 1678.9611295016082\n",
      "max_depth=6 -> RMSE promedio: 1549.7403725124927\n",
      "max_depth=8 -> RMSE promedio: 1528.161667168059\n",
      "max_depth=10 -> RMSE promedio: 1553.3048326224211\n",
      "max_depth=12 -> RMSE promedio: 1600.03317395724\n",
      "max_depth=14 -> RMSE promedio: 1645.2827416439309\n",
      "max_depth=16 -> RMSE promedio: 1675.844452719501\n",
      "max_depth=18 -> RMSE promedio: 1703.9016036693688\n",
      "max_depth=20 -> RMSE promedio: 1717.5712855300048\n",
      "Mejor max_depth: 8\n"
     ]
    },
    {
     "data": {
      "image/png": "[encoded data removed]",
      "text/plain": [
       "<Figure size 640x480 with 1 Axes>"
      ]
     },
     "metadata": {},
     "output_type": "display_data"
    }
   ],
   "source": [
    "# Celda 5\n",
    "# Primer hiperparámetro a estudiar: max_depth\n",
    "from sklearn.model_selection import cross_val_score\n",
    "import matplotlib.pyplot as plt\n",
    "\n",
    "depth_range = range(2, 21, 2) \n",
    "rmse_scores = []\n",
    "\n",
    "# Evaluar cada valor usando validación cruzada (5-fold)\n",
    "for depth in depth_range:\n",
    "    rf = RandomForestRegressor(\n",
    "        max_depth=depth,\n",
    "    )\n",
    "    scores = cross_val_score(rf, X_train, y_train, cv=5, scoring='neg_root_mean_squared_error')\n",
    "    rmse_scores.append(-scores.mean())\n",
    "\n",
    "min_max_depth = rmse_scores[0]\n",
    "min_max_depth_index = 0\n",
    "\n",
    "for d, s in zip(depth_range, rmse_scores):\n",
    "    print(f\"max_depth={d} -> RMSE promedio: {s}\")\n",
    "    if s < min_max_depth:\n",
    "        min_max_depth = s\n",
    "        min_max_depth_index = d\n",
    "        \n",
    "print(f\"Mejor max_depth: {min_max_depth_index}\")\n",
    "\n",
    "# Gráfica para visualizar mejor\n",
    "plt.plot(depth_range, rmse_scores, marker='o')\n",
    "plt.title(\"Calibración de max_depth\")\n",
    "plt.xlabel(\"max_depth\")\n",
    "plt.ylabel(\"RMSE promedio (CV)\")\n",
    "plt.grid(True)\n",
    "plt.show()\n"
   ]
  },
  {
   "cell_type": "code",
   "execution_count": 43,
   "metadata": {},
   "outputs": [
    {
     "name": "stdout",
     "output_type": "stream",
     "text": [
      "max_features=1 -> RMSE promedio: 1766.3460419935927\n",
      "max_features=2 -> RMSE promedio: 1760.3443882989473\n",
      "max_features=3 -> RMSE promedio: 1760.9490963531584\n",
      "max_features=4 -> RMSE promedio: 1758.2743215105534\n",
      "max_features=5 -> RMSE promedio: 1753.0149727914886\n",
      "max_features=6 -> RMSE promedio: 1750.1797851159147\n",
      "max_features=7 -> RMSE promedio: 1744.5974399046804\n",
      "max_features=8 -> RMSE promedio: 1737.6720739758312\n",
      "max_features=9 -> RMSE promedio: 1733.8431982820937\n",
      "Mejor max_features: 9\n"
     ]
    },
    {
     "data": {
      "image/png": "[encoded data removed]",
      "text/plain": [
       "<Figure size 640x480 with 1 Axes>"
      ]
     },
     "metadata": {},
     "output_type": "display_data"
    }
   ],
   "source": [
    "# Segundo hiperparámetro a estudiar: max_features\n",
    "\n",
    "features_range = range(1, X_train.shape[1] + 1) \n",
    "rmse_scores = []\n",
    "\n",
    "# Evaluar cada valor usando validación cruzada (5-fold)\n",
    "for features in features_range:\n",
    "    rf = RandomForestRegressor(\n",
    "        max_features=features,\n",
    "    )\n",
    "    scores = cross_val_score(rf, X_train, y_train, cv=5, scoring='neg_root_mean_squared_error')\n",
    "    rmse_scores.append(-scores.mean())\n",
    "\n",
    "min_max_features = rmse_scores[0]\n",
    "min_max_features_index = 0\n",
    "\n",
    "for d, s in zip(features_range, rmse_scores):\n",
    "    print(f\"max_features={d} -> RMSE promedio: {s}\")\n",
    "    if s < min_max_features:\n",
    "        min_max_features = s\n",
    "        min_max_features_index = d\n",
    "        \n",
    "print(f\"Mejor max_features: {min_max_features_index}\")\n",
    "\n",
    "# Gráfica para visualizar mejor\n",
    "plt.plot(features_range, rmse_scores, marker='o')\n",
    "plt.title(\"Calibración de max_features\")\n",
    "plt.xlabel(\"max_features\")\n",
    "plt.ylabel(\"RMSE promedio (CV)\")\n",
    "plt.grid(True)\n",
    "plt.show()\n"
   ]
  },
  {
   "cell_type": "code",
   "execution_count": 49,
   "metadata": {},
   "outputs": [
    {
     "name": "stdout",
     "output_type": "stream",
     "text": [
      "n_estimators=10 -> RMSE promedio: 1774.832416414444\n",
      "n_estimators=20 -> RMSE promedio: 1755.7675997716265\n",
      "n_estimators=30 -> RMSE promedio: 1747.6491342415197\n",
      "n_estimators=40 -> RMSE promedio: 1742.1344461076849\n",
      "n_estimators=50 -> RMSE promedio: 1740.1530403188742\n",
      "n_estimators=60 -> RMSE promedio: 1739.0028943706966\n",
      "n_estimators=70 -> RMSE promedio: 1738.78085063053\n",
      "n_estimators=80 -> RMSE promedio: 1732.673400344298\n",
      "n_estimators=90 -> RMSE promedio: 1738.4851862441806\n",
      "n_estimators=100 -> RMSE promedio: 1734.6200296377779\n",
      "Mejor n_estimators: 80\n"
     ]
    },
    {
     "data": {
      "image/png": "[encoded data removed]",
      "text/plain": [
       "<Figure size 640x480 with 1 Axes>"
      ]
     },
     "metadata": {},
     "output_type": "display_data"
    }
   ],
   "source": [
    "# Tercer hiperparámetro a estudiar: n_estimators\n",
    "\n",
    "estimators_range = range(10, 110, 10) \n",
    "rmse_scores = []\n",
    "\n",
    "# Evaluar cada valor usando validación cruzada (5-fold)\n",
    "for estimators in estimators_range:\n",
    "    rf = RandomForestRegressor(\n",
    "        n_estimators=estimators,\n",
    "    )\n",
    "    scores = cross_val_score(rf, X_train, y_train, cv=5, scoring='neg_root_mean_squared_error')\n",
    "    rmse_scores.append(-scores.mean())\n",
    "\n",
    "min_n_estimators = rmse_scores[0]\n",
    "min_n_estimators_index = 0\n",
    "\n",
    "for d, s in zip(estimators_range, rmse_scores):\n",
    "    print(f\"n_estimators={d} -> RMSE promedio: {s}\")\n",
    "    if s < min_n_estimators:\n",
    "        min_n_estimators = s\n",
    "        min_n_estimators_index = d\n",
    "        \n",
    "print(f\"Mejor n_estimators: {min_n_estimators_index}\")\n",
    "\n",
    "# Gráfica para visualizar mejor\n",
    "plt.plot(estimators_range, rmse_scores, marker='o')\n",
    "plt.title(\"Calibración de n_estimators\")\n",
    "plt.xlabel(\"n_estimators\")\n",
    "plt.ylabel(\"RMSE promedio (CV)\")\n",
    "plt.grid(True)\n",
    "plt.show()\n"
   ]
  },
  {
   "cell_type": "code",
   "execution_count": 50,
   "metadata": {},
   "outputs": [
    {
     "name": "stdout",
     "output_type": "stream",
     "text": [
      " RMSE random forest: 1566.4681054876098\n",
      " MAE random forest: 1151.7177240737028\n",
      " R cuadrado random forest: 0.8395790443196463\n"
     ]
    }
   ],
   "source": [
    "# Juntamos todos los hiperparámetros encontrados anteriormente en un único modelo\n",
    "\n",
    "rf_model_opt = RandomForestRegressor(max_depth = min_max_depth_index, max_features = min_max_features_index, n_estimators = min_n_estimators_index)\n",
    "\n",
    "rf_model_opt.fit(X_train, y_train)\n",
    "\n",
    "y_pred_rf_opt = rf_model_opt.predict(X_test)\n",
    "\n",
    "rmse_rf_opt = np.sqrt(mean_squared_error(y_test, y_pred_rf_opt))\n",
    "mae_rf_opt = mean_absolute_error(y_test, y_pred_rf_opt)\n",
    "r2_rf_opt = r2_score(y_test, y_pred_rf_opt)\n",
    "\n",
    "print(f\" RMSE random forest: {rmse_rf_opt}\")\n",
    "print(f\" MAE random forest: {mae_rf_opt}\")\n",
    "print(f\" R cuadrado random forest: {r2_rf_opt}\")\n"
   ]
  },
  {
   "cell_type": "markdown",
   "metadata": {},
   "source": [
    "###  Random Forest calibrado sklearn\n",
    "\n",
    "Entrenamos un modelo de regresión utilizando `RandomForestRegressor` de la librería `sklearn`.\n",
    "\n",
    "### Procedimiento\n",
    "\n",
    "1. Creamos y calibramos un Randome Forest de regresión con el hiperparámetro `max_depth`, dejando los demás como vienen por defecto. Utilizamos cross validation con un k-fold de 5 para evaluar el modelo. Seleccionamos el mejor valor de `max_depth` basándonos en RMSE.\n",
    "2. Creamos y calibramos un Randome Forest de regresión con el hiperparámetro `max_features`, dejando los demás como vienen por defecto. Utilizamos cross validation con un k-fold de 5 para evaluar el modelo. Seleccionamos el mejor valor de `max_features` basándonos en RMSE.\n",
    "3. Creamos y calibramos un Randome Forest de regresión con el hiperparámetro `n_estimators`, dejando los demás como vienen por defecto. Utilizamos cross validation con un k-fold de 5 para evaluar el modelo. Seleccionamos el mejor valor de `n_estimators` basándonos en RMSE.\n",
    "4. Creamos y calibramos un Randome Forest de regresión con todos los hiperparámetros encontrados anteriormente para finalmente hacer las predicciones en test y evaluar el modelo final.\n",
    "\n",
    "### Parámetros calibrados\n",
    "\n",
    "Los parámetros ajustados fueron:\n",
    "\n",
    "- **`n_estimators`**: número de árboles en el modelo. Se evaluaron valores entre 10 y 100.\n",
    "- **`max_features`**: cantidad de variables consideradas en cada división. Se evaluaron valores entre 1 y X_train.shape[1] (total de variables).\n",
    "- **`max_depth`**: profundidad máxima de los árboles. Se evaluaron valores entre 2 y 20.\n",
    "\n",
    "Finalmente los resultados obtenidos para cada hiperparámetro fueron:\n",
    "- **`n_estimators`:** 80\n",
    "- **`max_features`:** 9\n",
    "- **`max_depth`**: 8\n",
    "\n",
    "####  Resultados obtenidos en el conjunto de prueba:\n",
    "\n",
    "- **RMSE (Root Mean Squared Error):** 1568.99\n",
    "- **MAE (Mean Absolute Error):** 1153.65\n",
    "- **R cuadrado (Mean Absolute Error):** 0.84\n",
    "\n",
    "####  Comentario:\n",
    "La calibración de hiperparámtros ha demostrado ser bastante efectiva, pues conseguimos el mejor modelo hasta el momento. Cada uno de los hiperparámetros evaluados tiene una función y aporta algo en particular al modelo:\n",
    "\n",
    "- `n_estimators`: aumentarlo redujo la varianza del modelo, pero con un mayor costo computacional. A partir de un valor en concreto vimos que se que el RMSE se mantenía estable en niveles entre 1736 y 1731, por lo que en lugar de seleccionar el mejor, seleccionamos uno que permitiera un equilibrio entre la reducción de varianza y el costo computacional.\n",
    "- `max_features`: permitir que los árboles usen todas las variables mejoró la precisión. En esta caso vimos que utilizar todas las variables resultó, con diferencia, ser la mejor de las opciones.\n",
    "- `max_depth`: controlar la profundidad evitó el sobreajuste, logrando un buen equilibrio entre sesgo y varianza. Vimos que llegado a un punto el RMSE empieza a aumentar hasta estavilizarse, por lo que el criterio de elección fue el más bajo."
   ]
  },
  {
   "cell_type": "markdown",
   "metadata": {},
   "source": [
    "### Punto 6 - XGBoost con librería\n",
    "\n",
    "En la celda 6 implementen un modelo XGBoost de regresión con la librería sklearn y comenten sobre el desempeño del modelo."
   ]
  },
  {
   "cell_type": "code",
   "execution_count": null,
   "metadata": {},
   "outputs": [
    {
     "name": "stdout",
     "output_type": "stream",
     "text": [
      " RMSE xgboost: 1621.4197004256812\n",
      " MAE xgboost: 1186.634392366123\n",
      " R cuadrado xgboost: 0.8281265175296673\n"
     ]
    }
   ],
   "source": [
    "# Celda 6\n",
    "from xgboost.sklearn import XGBRegressor\n",
    "xgb = XGBRegressor()\n",
    "\n",
    "xgb.fit(X_train, y_train)\n",
    "\n",
    "y_pred_xgb= xgb.predict(X_test)\n",
    "\n",
    "rmse_xgb = np.sqrt(mean_squared_error(y_test, y_pred_xgb))\n",
    "mae_xgb = mean_absolute_error(y_test, y_pred_xgb)\n",
    "r2_xgb = r2_score(y_test, y_pred_xgb)\n",
    "\n",
    "print(f\" RMSE xgboost: {rmse_xgb}\")\n",
    "print(f\" MAE xgboost: {mae_xgb}\")\n",
    "print(f\" R cuadrado xgboost: {r2_xgb}\")"
   ]
  },
  {
   "cell_type": "markdown",
   "metadata": {},
   "source": [
    "###  XGBoost sklearn\n",
    "\n",
    "Implementamos el modelo XGBoost utilizando la librería de `sklearn`. Este modelo se destaca por ser un método de **boosting** que construye árboles de manera secuencial, corrigiendo los errores del modelo anterior en cada iteración.\n",
    "\n",
    "El procedimiento consistió en:\n",
    "\n",
    "1. Generar un modelo XGBoost de regresión con sus valores por defecto.\n",
    "2. Entrenar el modelo.\n",
    "3. Predecir sobre el conjunto de prueba.\n",
    "4. Calcular las métricas del modelo.\n",
    "\n",
    "#### Configuración:\n",
    "\n",
    "- La configuración por defecto de `sklearn`.\n",
    "\n",
    "#### Resultados en el conjunto de prueba (`X_test`, `y_test`):\n",
    "- RMSE (Root Mean Squared Error): 1621.42 \n",
    "- MAE (Mean Absolute Error): 1186.63\n",
    "- R cuadrado: 0.83\n",
    "\n",
    "#### Comentario:\n",
    "El modelo XGBoost ha resultado ser uno de los mejores modelos en cuanto a desempeño. Aunque en este caso no es mejor que el Random Forest calibrado es importante destacar que las métricas evaluadas para ambos modelos son muy cercanas pese a no haber hecho ningún proceso de calibración para este nuevo modelo. Esto lo que nos permite comprobar es que la forma en la que XGBoost corrige errores de manera secuencial durante el proceso de boosting muestra una clara mejora frente a otro modelos como Random Forest o un árbol de decisión tradicional."
   ]
  },
  {
   "cell_type": "markdown",
   "metadata": {},
   "source": [
    "### Punto 7 - Calibración de parámetros XGBoost\n",
    "\n",
    "En la celda 7 calibren los parámetros learning rate, gamma y colsample_bytree del modelo XGBoost para regresión, comenten sobre el desempeño del modelo y describan cómo cada parámetro afecta el desempeño del modelo."
   ]
  },
  {
   "cell_type": "code",
   "execution_count": 20,
   "metadata": {},
   "outputs": [
    {
     "name": "stdout",
     "output_type": "stream",
     "text": [
      "Learning_rate=0.001 -> RMSE promedio: 13622.899499162711\n",
      "Learning_rate=0.01 -> RMSE promedio: 5722.259945765598\n",
      "Learning_rate=0.1 -> RMSE promedio: 1519.5362432739007\n",
      "Learning_rate=0.2 -> RMSE promedio: 1555.5668525902108\n",
      "Learning_rate=0.3 -> RMSE promedio: 1580.1708797376523\n",
      "Learning_rate=0.5 -> RMSE promedio: 1642.4354119496118\n",
      "Learning_rate=0.7 -> RMSE promedio: 1706.944457744624\n",
      "Learning_rate=0.9 -> RMSE promedio: 1768.5587526457489\n",
      "Mejor learning_rate: 0.1\n"
     ]
    },
    {
     "data": {
      "image/png": "[encoded data removed]",
      "text/plain": [
       "<Figure size 640x480 with 1 Axes>"
      ]
     },
     "metadata": {},
     "output_type": "display_data"
    }
   ],
   "source": [
    "# Celda 7\n",
    "# Primer hiperparámetro a estudiar: learning rate\n",
    "learning_range = [0.001, 0.01, 0.1, 0.2, 0.3, 0.5, 0.7, 0.9]\n",
    "rmse_scores = []\n",
    "\n",
    "# Evaluar cada valor usando validación cruzada (5-fold)\n",
    "for rate in learning_range:\n",
    "    xgb = XGBRegressor(\n",
    "        learning_rate = rate\n",
    "    )\n",
    "    scores = cross_val_score(xgb, X_train, y_train, cv=5, scoring='neg_root_mean_squared_error')\n",
    "    rmse_scores.append(-scores.mean())\n",
    "\n",
    "min_learning_rate = rmse_scores[0]\n",
    "min_learning_rate_index = 0\n",
    "\n",
    "for d, s in zip(learning_range, rmse_scores):\n",
    "    print(f\"Learning_rate={d} -> RMSE promedio: {s}\")\n",
    "    if s < min_learning_rate:\n",
    "        min_learning_rate = s\n",
    "        min_learning_rate_index = d\n",
    "        \n",
    "print(f\"Mejor learning_rate: {min_learning_rate_index}\")\n",
    "\n",
    "# Gráfica para visualizar mejor\n",
    "plt.plot(learning_range, rmse_scores, marker='o')\n",
    "plt.title(\"Calibración de learning_rate\")\n",
    "plt.xlabel(\"learning_rate\")\n",
    "plt.ylabel(\"RMSE promedio (CV)\")\n",
    "plt.grid(True)\n",
    "plt.show()\n"
   ]
  },
  {
   "cell_type": "code",
   "execution_count": 37,
   "metadata": {},
   "outputs": [
    {
     "name": "stdout",
     "output_type": "stream",
     "text": [
      "gamma=0 -> RMSE promedio: 1580.1708797376523\n",
      "gamma=0.1 -> RMSE promedio: 1580.1708797376523\n",
      "gamma=0.3 -> RMSE promedio: 1580.1708797376523\n",
      "gamma=0.5 -> RMSE promedio: 1580.1708797376523\n",
      "gamma=1 -> RMSE promedio: 1580.1708797376523\n",
      "gamma=3 -> RMSE promedio: 1580.1708797376523\n",
      "gamma=5 -> RMSE promedio: 1580.1708797376523\n",
      "gamma=7 -> RMSE promedio: 1580.1708797376523\n",
      "gamma=10 -> RMSE promedio: 1580.1708797376523\n",
      "Mejor gamma: 0\n"
     ]
    },
    {
     "data": {
      "image/png": "[encoded data removed]",
      "text/plain": [
       "<Figure size 640x480 with 1 Axes>"
      ]
     },
     "metadata": {},
     "output_type": "display_data"
    }
   ],
   "source": [
    "# Segundo hiperparámetro a estudiar: gamma\n",
    "gamma_range = [0, 0.1, 0.3, 0.5, 1, 3, 5, 7, 10]\n",
    "rmse_scores = []\n",
    "\n",
    "# Evaluar cada valor usando validación cruzada (5-fold)\n",
    "for gamma_ in gamma_range:\n",
    "    xgb = XGBRegressor(\n",
    "        gamma = gamma_\n",
    "    )\n",
    "    scores = cross_val_score(xgb, X_train, y_train, cv=5, scoring='neg_root_mean_squared_error')\n",
    "    rmse_scores.append(-scores.mean())\n",
    "\n",
    "min_gamma = rmse_scores[0]\n",
    "min_gamma_index = 0\n",
    "\n",
    "for d, s in zip(gamma_range, rmse_scores):\n",
    "    print(f\"gamma={d} -> RMSE promedio: {s}\")\n",
    "    if s < min_gamma:\n",
    "        min_gamma = s\n",
    "        min_gamma_index = d\n",
    "        \n",
    "print(f\"Mejor gamma: {min_gamma_index}\")\n",
    "\n",
    "# Gráfica para visualizar mejor\n",
    "plt.plot(gamma_range, rmse_scores, marker='o')\n",
    "plt.title(\"Calibración de gamma\")\n",
    "plt.xlabel(\"gamma\")\n",
    "plt.ylabel(\"RMSE promedio (CV)\")\n",
    "plt.grid(True)\n",
    "plt.show()\n"
   ]
  },
  {
   "cell_type": "code",
   "execution_count": 36,
   "metadata": {},
   "outputs": [
    {
     "name": "stdout",
     "output_type": "stream",
     "text": [
      "colsample_bytree=0.1 -> RMSE promedio: 1604.9514163559538\n",
      "colsample_bytree=0.2 -> RMSE promedio: 1604.9514163559538\n",
      "colsample_bytree=0.3 -> RMSE promedio: 1528.6445059851553\n",
      "colsample_bytree=0.4 -> RMSE promedio: 1531.1214816961744\n",
      "colsample_bytree=0.5 -> RMSE promedio: 1546.0630136369043\n",
      "colsample_bytree=0.6 -> RMSE promedio: 1548.2803505998047\n",
      "colsample_bytree=0.7 -> RMSE promedio: 1554.3568938639594\n",
      "colsample_bytree=0.8 -> RMSE promedio: 1558.8762178536858\n",
      "colsample_bytree=0.9 -> RMSE promedio: 1567.1752384959855\n",
      "colsample_bytree=1.0 -> RMSE promedio: 1580.1708797376523\n",
      "Mejor colsample_bytree_range: 0.3\n"
     ]
    },
    {
     "data": {
      "image/png": "[encoded data removed]",
      "text/plain": [
       "<Figure size 640x480 with 1 Axes>"
      ]
     },
     "metadata": {},
     "output_type": "display_data"
    }
   ],
   "source": [
    "# Tercer hiperparámetro a estudiar: colsample_bytree\n",
    "colsample_bytree_range = [0.1, 0.2, 0.3, 0.4, 0.5, 0.6, 0.7, 0.8, 0.9, 1.0]\n",
    "rmse_scores = []\n",
    "\n",
    "# Evaluar cada valor usando validación cruzada (5-fold)\n",
    "for colsample_bytree_ in colsample_bytree_range:\n",
    "    xgb = XGBRegressor(\n",
    "        colsample_bytree = colsample_bytree_\n",
    "    )\n",
    "    scores = cross_val_score(xgb, X_train, y_train, cv=5, scoring='neg_root_mean_squared_error')\n",
    "    rmse_scores.append(-scores.mean())\n",
    "\n",
    "min_colsample_bytree = rmse_scores[0]\n",
    "min_colsample_bytree_index = 0\n",
    "\n",
    "for d, s in zip(colsample_bytree_range, rmse_scores):\n",
    "    print(f\"colsample_bytree={d} -> RMSE promedio: {s}\")\n",
    "    if s < min_colsample_bytree:\n",
    "        min_colsample_bytree = s\n",
    "        min_colsample_bytree_index = d\n",
    "        \n",
    "print(f\"Mejor colsample_bytree_range: {min_colsample_bytree_index}\")\n",
    "\n",
    "# Gráfica para visualizar mejor\n",
    "plt.plot(colsample_bytree_range, rmse_scores, marker='o')\n",
    "plt.title(\"Calibración de colsample_bytree\")\n",
    "plt.xlabel(\"colsample_bytree\")\n",
    "plt.ylabel(\"RMSE promedio (CV)\")\n",
    "plt.grid(True)\n",
    "plt.show()\n"
   ]
  },
  {
   "cell_type": "code",
   "execution_count": null,
   "metadata": {},
   "outputs": [
    {
     "name": "stdout",
     "output_type": "stream",
     "text": [
      " RMSE XGBoost: 1592.9901499720816\n",
      " MAE XGBoost: 1177.1541927064538\n",
      " R cuadrado XGBoost: 0.8341008478144328\n"
     ]
    }
   ],
   "source": [
    "# Juntamos todos los hiperparámetros encontrados anteriormente en un único modelo\n",
    "\n",
    "xgb_model_opt = XGBRegressor(learning_rate = min_learning_rate_index, gamma = min_gamma_index, colsample_bytree = min_colsample_bytree_index)\n",
    "\n",
    "xgb_model_opt.fit(X_train, y_train)\n",
    "\n",
    "y_pred_xgb_opt = xgb_model_opt.predict(X_test)\n",
    "\n",
    "rmse_xgb_opt = np.sqrt(mean_squared_error(y_test, y_pred_xgb_opt))\n",
    "mae_xgb_opt = mean_absolute_error(y_test, y_pred_xgb_opt)\n",
    "r2_xgb_opt = r2_score(y_test, y_pred_xgb_opt)\n",
    "\n",
    "print(f\" RMSE XGBoost: {rmse_xgb_opt}\")\n",
    "print(f\" MAE XGBoost: {mae_xgb_opt}\")\n",
    "print(f\" R cuadrado XGBoost: {r2_xgb_opt}\")\n"
   ]
  },
  {
   "cell_type": "markdown",
   "metadata": {},
   "source": [
    "###  XGBoost calibrado sklearn\n",
    "\n",
    "Entrenamos un modelo de regresión utilizando `XGBRegressor` de la librería `sklearn`.\n",
    "\n",
    "### Procedimiento\n",
    "\n",
    "1. Creamos y calibramos un XGBoost de regresión con el hiperparámetro `learning_rate`, dejando los demás como vienen por defecto. Utilizamos cross validation con un k-fold de 5 para evaluar el modelo. Seleccionamos el mejor valor de `learning_rate` basándonos en RMSE.\n",
    "2. Creamos y calibramos un XGBoost de regresión con el hiperparámetro `gamma`, dejando los demás como vienen por defecto. Utilizamos cross validation con un k-fold de 5 para evaluar el modelo. Seleccionamos el mejor valor de `gamma` basándonos en RMSE.\n",
    "3. Creamos y calibramos un XGBoost de regresión con el hiperparámetro `colsample_bytree`, dejando los demás como vienen por defecto. Utilizamos cross validation con un k-fold de 5 para evaluar el modelo. Seleccionamos el mejor valor de `colsample_bytree` basándonos en RMSE.\n",
    "4. Creamos y calibramos un XGBoost de regresión con todos los hiperparámetros encontrados anteriormente para finalmente hacer las predicciones en test y evaluar el modelo final.\n",
    "\n",
    "### Parámetros calibrados\n",
    "\n",
    "Los parámetros ajustados fueron:\n",
    "\n",
    "- **`gamma`**: número de árboles en el modelo. Se evaluaron valores entre 0 y 10.\n",
    "- **`colsample_bytree`**: cantidad de variables consideradas en cada división. Se evaluaron valores entre 0.1 y 10.\n",
    "- **`learning_rate`**: profundidad máxima de los árboles. Se evaluaron valores entre 0.001 y 0.9.\n",
    "\n",
    "Finalmente los resultados obtenidos para cada hiperparámetro fueron:\n",
    "- **`gamma`:** No afecto, se utilizó 0.1\n",
    "- **`colsample_bytree`:** 0.3\n",
    "- **`learning_rate`**: 0.1\n",
    "\n",
    "####  Resultados obtenidos en el conjunto de prueba:\n",
    "\n",
    "- **RMSE (Root Mean Squared Error):** 1592.99\n",
    "- **MAE (Mean Absolute Error):** 1177.15\n",
    "- **R cuadrado (Mean Absolute Error):** 0.83\n",
    "\n",
    "####  Comentario:\n",
    "La calibración de hiperparámtros ha demostrado ser bastante efectiva, pues conseguimos un modelo que resultó ser mejor que el XGBoost por defecto. Cada uno de los hiperparámetros evaluados tiene una función y aporta algo en particular al modelo:\n",
    "\n",
    "- `learning_rate`: controla cuánto contribuye cada árbol al modelo final. Un valor de 0.1 nos permitió un aprendizaje progresivo sin convergencia prematura, mejorando la - generalización frente al valor por defecto que podría ser demasiado agresivo o conservador según los datos.\n",
    "- `gamma`: determina la regularización mínima para crear una partición en un nodo. Aunque este parámetro no impactó significativamente en nuestro caso, probarlo fue necesario ya que en otros conjuntos de datos puede evitar divisiones demasiado específicas y reducir el sobreajuste.\n",
    "- `colsample_bytree`: define qué fracción de columnas usar en cada árbol. El valor óptimo de 0.3 indica que usar solo el 30% de las variables en cada árbol redujo correlaciones y mejoró la robustez del modelo, algo que no se consigue con el valor por defecto (1.0) que usa todas las variables."
   ]
  },
  {
   "cell_type": "markdown",
   "metadata": {},
   "source": [
    "### Punto 8 - Comparación y análisis de resultados\n",
    "En la celda 8 comparen los resultados obtenidos de los diferentes modelos (random forest y XGBoost) y comenten las ventajas del mejor modelo y las desventajas del modelo con el menor desempeño."
   ]
  },
  {
   "cell_type": "code",
   "execution_count": 54,
   "metadata": {},
   "outputs": [
    {
     "name": "stdout",
     "output_type": "stream",
     "text": [
      "RMSE XGBoost: 1592.9901499720816\n",
      "MAE XGBoost: 1177.1541927064538\n",
      "R cuadrado XGBoost: 0.8341008478144328\n",
      "\n",
      "RMSE random forest: 1566.4681054876098\n",
      "MAE random forest: 1151.7177240737028\n",
      "R cuadrado random forest: 0.8395790443196463\n"
     ]
    }
   ],
   "source": [
    "# Celda 8\n",
    "print(f\"RMSE XGBoost: {rmse_xgb_opt}\")\n",
    "print(f\"MAE XGBoost: {mae_xgb_opt}\")\n",
    "print(f\"R cuadrado XGBoost: {r2_xgb_opt}\")\n",
    "\n",
    "print(f\"\\nRMSE random forest: {rmse_rf_opt}\")\n",
    "print(f\"MAE random forest: {mae_rf_opt}\")\n",
    "print(f\"R cuadrado random forest: {r2_rf_opt}\")"
   ]
  },
  {
   "cell_type": "markdown",
   "metadata": {},
   "source": [
    "El modelo de Random Forest obtuvo mejores resultados globales que XGBoost, mostrando menor error absoluto y cuadrático medio, y un mayor R², aunque esta diferencia es mínima. Esto sugiere que logró capturar mejor la estructura de los datos en este caso particular.\n",
    "\n",
    "**Ventajas y desventajas de cada modelo:**\n",
    "\n",
    "- **Random Forest** destaca por su robustez frente a sobreajuste, su simplicidad en la configuración de hiperparámetros y su capacidad para manejar relaciones no lineales y ruido en los datos. Sin embargo, al ser un método basado en bagging, puede ser menos eficiente computacionalmente y carece de algunos mecanismos avanzados de regularización.\n",
    "\n",
    "- **XGBoost**, por otro lado, es un algoritmo más sofisticado que incorpora boosting secuencial, regularización y mayor eficiencia en grandes volúmenes de datos. En muchos contextos, suele superar a Random Forest en precisión. Sin embargo, es más sensible a la selección de hiperparámetros y requiere una calibración más cuidadosa para alcanzar su mejor rendimiento.\n",
    "\n",
    "**Reflexión final:**\n",
    "\n",
    "En este análisis, los hiperparámetros se estudiaron **de forma individual** y no en combinación, lo cual puede limitar la calidad de la optimización. Usar herramientas como `GridSearchCV` o `RandomizedSearchCV` permitiría explorar conjuntos de parámetros de forma conjunta, lo que podría mejorar el rendimiento del modelo XGBoost.\n",
    "\n",
    "Aun así, es posible que, dada la naturaleza específica de los datos utilizados (como su tamaño, la relación entre variables o la presencia de ruido), el modelo de Random Forest sea más adecuado para este problema en particular.\n"
   ]
  }
 ],
 "metadata": {
  "kernelspec": {
   "display_name": "Python 3",
   "language": "python",
   "name": "python3"
  },
  "language_info": {
   "codemirror_mode": {
    "name": "ipython",
    "version": 3
   },
   "file_extension": ".py",
   "mimetype": "text/x-python",
   "name": "python",
   "nbconvert_exporter": "python",
   "pygments_lexer": "ipython3",
   "version": "3.11.5"
  }
 },
 "nbformat": 4,
 "nbformat_minor": 4
}
